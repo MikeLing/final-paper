{
 "cells": [
  {
   "cell_type": "code",
   "execution_count": 48,
   "metadata": {},
   "outputs": [
    {
     "ename": "SyntaxError",
     "evalue": "invalid syntax (<ipython-input-48-ddfe44041290>, line 15)",
     "output_type": "error",
     "traceback": [
      "\u001b[1;36m  File \u001b[1;32m\"<ipython-input-48-ddfe44041290>\"\u001b[1;36m, line \u001b[1;32m15\u001b[0m\n\u001b[1;33m    G.edge[1][2]['state']=\u001b[0m\n\u001b[1;37m                          ^\u001b[0m\n\u001b[1;31mSyntaxError\u001b[0m\u001b[1;31m:\u001b[0m invalid syntax\n"
     ]
    }
   ],
   "source": [
    "import sys\n",
    "import numpy as np\n",
    "import matplotlib.pyplot as plt\n",
    "import networkx as nx\n",
    "import pdb\n",
    "G = nx.Graph()\n",
    "G.add_edge(1,2)\n",
    "G.add_edge(2,3)\n",
    "G.add_edge(1,3)\n",
    "\n",
    "G.node[1]['label']=1\n",
    "G.node[2]['label']=2\n",
    "G.node[3]['label']=3\n",
    "\n",
    "G.edge[1][2]['weight']= 2.324\n",
    "\n",
    "pos = nx.spring_layout(G)\n",
    "\n",
    "nx.draw(G, pos)\n",
    "node_labels = nx.get_node_attributes(G,'state')\n",
    "nx.draw_networkx_labels(G, pos, labels = node_labels)\n",
    "edge_labels = nx.get_edge_attributes(G,'state')\n",
    "nx.draw_networkx_edge_labels(G, pos, labels = edge_labels)\n",
    "\n",
    "plt.show()"
   ]
  },
  {
   "cell_type": "code",
   "execution_count": null,
   "metadata": {
    "collapsed": true
   },
   "outputs": [],
   "source": []
  }
 ],
 "metadata": {
  "kernelspec": {
   "display_name": "Python 2",
   "language": "python",
   "name": "python2"
  },
  "language_info": {
   "codemirror_mode": {
    "name": "ipython",
    "version": 2
   },
   "file_extension": ".py",
   "mimetype": "text/x-python",
   "name": "python",
   "nbconvert_exporter": "python",
   "pygments_lexer": "ipython2",
   "version": "2.7.13"
  }
 },
 "nbformat": 4,
 "nbformat_minor": 2
}
